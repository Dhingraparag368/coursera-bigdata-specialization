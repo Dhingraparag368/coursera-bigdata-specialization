{
 "cells": [
  {
   "cell_type": "code",
   "execution_count": 1,
   "metadata": {},
   "outputs": [
    {
     "name": "stdout",
     "output_type": "stream",
     "text": [
      "Overwriting mapper_w.py\n"
     ]
    }
   ],
   "source": [
    "%%writefile mapper_w.py\n",
    "\n",
    "import sys\n",
    "import re\n",
    "\n",
    "reload(sys)\n",
    "sys.setdefaultencoding('utf-8') # required to convert to unicode\n",
    "\n",
    "for line in sys.stdin:\n",
    "    try:\n",
    "        word,word_count = unicode(line.strip()).split('\\t', 1)\n",
    "    except ValueError as e:\n",
    "        continue\n",
    "    print >> sys.stderr, \"reporter:counter:Wiki stats2,Unique words,%d\" % 1\n",
    "    print \"%s\\t%s\" % (word_count,word)"
   ]
  },
  {
   "cell_type": "code",
   "execution_count": 2,
   "metadata": {},
   "outputs": [
    {
     "name": "stdout",
     "output_type": "stream",
     "text": [
      "Overwriting reducer_w.py\n"
     ]
    }
   ],
   "source": [
    "%%writefile reducer_w.py\n",
    "import sys\n",
    "for line in sys.stdin:\n",
    "    try:\n",
    "        count,key = line.strip().split('\\t', 1)\n",
    "        count = int(count)\n",
    "    except ValueError as e:\n",
    "        continue\n",
    "    print \"%s\\t%d\" % (key,count)"
   ]
  },
  {
   "cell_type": "code",
   "execution_count": 3,
   "metadata": {},
   "outputs": [
    {
     "name": "stdout",
     "output_type": "stream",
     "text": [
      "Overwriting mapper.py\n"
     ]
    }
   ],
   "source": [
    "%%writefile mapper.py\n",
    "\n",
    "import sys\n",
    "import re\n",
    "\n",
    "reload(sys)\n",
    "sys.setdefaultencoding('utf-8') # required to convert to unicode\n",
    "\n",
    "for line in sys.stdin:\n",
    "    try:\n",
    "        article_id, text = unicode(line.strip()).split('\\t', 1)\n",
    "    except ValueError as e:\n",
    "        continue\n",
    "    words = re.split(\"\\W*\\s+\\W*\", text, flags=re.UNICODE)\n",
    "    for word in words:\n",
    "        print >> sys.stderr, \"reporter:counter:Wiki stats,Total words,%d\" % 1\n",
    "        print \"%s\\t%d\" % (word.lower(), 1)"
   ]
  },
  {
   "cell_type": "code",
   "execution_count": 4,
   "metadata": {},
   "outputs": [
    {
     "name": "stdout",
     "output_type": "stream",
     "text": [
      "Overwriting reducer.py\n"
     ]
    }
   ],
   "source": [
    "%%writefile reducer.py\n",
    "\n",
    "import sys\n",
    "\n",
    "current_key = None\n",
    "word_sum = 0"
   ]
  },
  {
   "cell_type": "code",
   "execution_count": 5,
   "metadata": {},
   "outputs": [
    {
     "name": "stdout",
     "output_type": "stream",
     "text": [
      "Appending to reducer.py\n"
     ]
    }
   ],
   "source": [
    "%%writefile -a reducer.py\n",
    "\n",
    "for line in sys.stdin:\n",
    "    try:\n",
    "        key, count = line.strip().split('\\t', 1)\n",
    "        count = int(count)\n",
    "    except ValueError as e:\n",
    "        continue\n",
    "    if current_key != key:\n",
    "        if current_key:\n",
    "            print \"%s\\t%d\" % (current_key, word_sum)\n",
    "        word_sum = 0\n",
    "        current_key = key\n",
    "    word_sum += count\n",
    "\n",
    "if current_key:\n",
    "    print \"%s\\t%d\" % (current_key, word_sum)"
   ]
  },
  {
   "cell_type": "markdown",
   "metadata": {},
   "source": [
    "**Running first mapper**"
   ]
  },
  {
   "cell_type": "code",
   "execution_count": 6,
   "metadata": {},
   "outputs": [
    {
     "name": "stdout",
     "output_type": "stream",
     "text": [
      "is\t126420\n"
     ]
    },
    {
     "name": "stderr",
     "output_type": "stream",
     "text": [
      "18/02/14 04:27:19 INFO client.RMProxy: Connecting to ResourceManager at /0.0.0.0:8032\n",
      "18/02/14 04:27:19 INFO client.RMProxy: Connecting to ResourceManager at /0.0.0.0:8032\n",
      "18/02/14 04:27:20 INFO mapred.FileInputFormat: Total input files to process : 1\n",
      "18/02/14 04:27:20 INFO mapreduce.JobSubmitter: number of splits:2\n",
      "18/02/14 04:27:20 INFO mapreduce.JobSubmitter: Submitting tokens for job: job_1518514225004_0028\n",
      "18/02/14 04:27:20 INFO impl.YarnClientImpl: Submitted application application_1518514225004_0028\n",
      "18/02/14 04:27:20 INFO mapreduce.Job: The url to track the job: http://71482b219d84:8088/proxy/application_1518514225004_0028/\n",
      "18/02/14 04:27:20 INFO mapreduce.Job: Running job: job_1518514225004_0028\n",
      "18/02/14 04:27:25 INFO mapreduce.Job: Job job_1518514225004_0028 running in uber mode : false\n",
      "18/02/14 04:27:25 INFO mapreduce.Job:  map 0% reduce 0%\n",
      "18/02/14 04:27:41 INFO mapreduce.Job:  map 35% reduce 0%\n",
      "18/02/14 04:27:47 INFO mapreduce.Job:  map 46% reduce 0%\n",
      "18/02/14 04:27:53 INFO mapreduce.Job:  map 56% reduce 0%\n",
      "18/02/14 04:27:59 INFO mapreduce.Job:  map 67% reduce 0%\n",
      "18/02/14 04:28:02 INFO mapreduce.Job:  map 100% reduce 0%\n",
      "18/02/14 04:28:07 INFO mapreduce.Job:  map 100% reduce 13%\n",
      "18/02/14 04:28:09 INFO mapreduce.Job:  map 100% reduce 25%\n",
      "18/02/14 04:28:10 INFO mapreduce.Job:  map 100% reduce 38%\n",
      "18/02/14 04:28:11 INFO mapreduce.Job:  map 100% reduce 50%\n",
      "18/02/14 04:28:12 INFO mapreduce.Job:  map 100% reduce 63%\n",
      "18/02/14 04:28:13 INFO mapreduce.Job:  map 100% reduce 88%\n",
      "18/02/14 04:28:14 INFO mapreduce.Job:  map 100% reduce 100%\n",
      "18/02/14 04:28:14 INFO mapreduce.Job: Job job_1518514225004_0028 completed successfully\n",
      "18/02/14 04:28:14 INFO mapreduce.Job: Counters: 50\n",
      "\tFile System Counters\n",
      "\t\tFILE: Number of bytes read=17954826\n",
      "\t\tFILE: Number of bytes written=28258023\n",
      "\t\tFILE: Number of read operations=0\n",
      "\t\tFILE: Number of large read operations=0\n",
      "\t\tFILE: Number of write operations=0\n",
      "\t\tHDFS: Number of bytes read=76874501\n",
      "\t\tHDFS: Number of bytes written=5370513\n",
      "\t\tHDFS: Number of read operations=30\n",
      "\t\tHDFS: Number of large read operations=0\n",
      "\t\tHDFS: Number of write operations=16\n",
      "\tJob Counters \n",
      "\t\tLaunched map tasks=2\n",
      "\t\tLaunched reduce tasks=8\n",
      "\t\tData-local map tasks=2\n",
      "\t\tTotal time spent by all maps in occupied slots (ms)=68397\n",
      "\t\tTotal time spent by all reduces in occupied slots (ms)=19435\n",
      "\t\tTotal time spent by all map tasks (ms)=68397\n",
      "\t\tTotal time spent by all reduce tasks (ms)=19435\n",
      "\t\tTotal vcore-milliseconds taken by all map tasks=68397\n",
      "\t\tTotal vcore-milliseconds taken by all reduce tasks=19435\n",
      "\t\tTotal megabyte-milliseconds taken by all map tasks=70038528\n",
      "\t\tTotal megabyte-milliseconds taken by all reduce tasks=19901440\n",
      "\tMap-Reduce Framework\n",
      "\t\tMap input records=4100\n",
      "\t\tMap output records=11937375\n",
      "\t\tMap output bytes=97842436\n",
      "\t\tMap output materialized bytes=8952763\n",
      "\t\tInput split bytes=228\n",
      "\t\tCombine input records=11937375\n",
      "\t\tCombine output records=640011\n",
      "\t\tReduce input groups=427175\n",
      "\t\tReduce shuffle bytes=8952763\n",
      "\t\tReduce input records=640011\n",
      "\t\tReduce output records=427175\n",
      "\t\tSpilled Records=1920033\n",
      "\t\tShuffled Maps =16\n",
      "\t\tFailed Shuffles=0\n",
      "\t\tMerged Map outputs=16\n",
      "\t\tGC time elapsed (ms)=1217\n",
      "\t\tCPU time spent (ms)=122140\n",
      "\t\tPhysical memory (bytes) snapshot=2330836992\n",
      "\t\tVirtual memory (bytes) snapshot=20215447552\n",
      "\t\tTotal committed heap usage (bytes)=1624768512\n",
      "\tShuffle Errors\n",
      "\t\tBAD_ID=0\n",
      "\t\tCONNECTION=0\n",
      "\t\tIO_ERROR=0\n",
      "\t\tWRONG_LENGTH=0\n",
      "\t\tWRONG_MAP=0\n",
      "\t\tWRONG_REDUCE=0\n",
      "\tWiki stats\n",
      "\t\tTotal words=11937375\n",
      "\tFile Input Format Counters \n",
      "\t\tBytes Read=76874273\n",
      "\tFile Output Format Counters \n",
      "\t\tBytes Written=5370513\n",
      "18/02/14 04:28:14 INFO streaming.StreamJob: Output directory: wordcount_result_1518514225104\n",
      "18/02/14 04:28:17 INFO client.RMProxy: Connecting to ResourceManager at /0.0.0.0:8032\n",
      "18/02/14 04:28:17 INFO client.RMProxy: Connecting to ResourceManager at /0.0.0.0:8032\n",
      "18/02/14 04:28:18 INFO mapred.FileInputFormat: Total input files to process : 8\n",
      "18/02/14 04:28:18 INFO mapreduce.JobSubmitter: number of splits:8\n",
      "18/02/14 04:28:18 INFO Configuration.deprecation: mapred.text.key.comparator.options is deprecated. Instead, use mapreduce.partition.keycomparator.options\n",
      "18/02/14 04:28:18 INFO mapreduce.JobSubmitter: Submitting tokens for job: job_1518514225004_0029\n",
      "18/02/14 04:28:18 INFO impl.YarnClientImpl: Submitted application application_1518514225004_0029\n",
      "18/02/14 04:28:18 INFO mapreduce.Job: The url to track the job: http://71482b219d84:8088/proxy/application_1518514225004_0029/\n",
      "18/02/14 04:28:18 INFO mapreduce.Job: Running job: job_1518514225004_0029\n",
      "18/02/14 04:28:24 INFO mapreduce.Job: Job job_1518514225004_0029 running in uber mode : false\n",
      "18/02/14 04:28:24 INFO mapreduce.Job:  map 0% reduce 0%\n",
      "18/02/14 04:28:29 INFO mapreduce.Job:  map 25% reduce 0%\n",
      "18/02/14 04:28:30 INFO mapreduce.Job:  map 75% reduce 0%\n",
      "18/02/14 04:28:33 INFO mapreduce.Job:  map 100% reduce 0%\n",
      "18/02/14 04:28:36 INFO mapreduce.Job:  map 100% reduce 100%\n",
      "18/02/14 04:28:36 INFO mapreduce.Job: Job job_1518514225004_0029 completed successfully\n",
      "18/02/14 04:28:36 INFO mapreduce.Job: Counters: 50\n",
      "\tFile System Counters\n",
      "\t\tFILE: Number of bytes read=6224888\n",
      "\t\tFILE: Number of bytes written=13709898\n",
      "\t\tFILE: Number of read operations=0\n",
      "\t\tFILE: Number of large read operations=0\n",
      "\t\tFILE: Number of write operations=0\n",
      "\t\tHDFS: Number of bytes read=5371529\n",
      "\t\tHDFS: Number of bytes written=5370513\n",
      "\t\tHDFS: Number of read operations=27\n",
      "\t\tHDFS: Number of large read operations=0\n",
      "\t\tHDFS: Number of write operations=2\n",
      "\tJob Counters \n",
      "\t\tLaunched map tasks=8\n",
      "\t\tLaunched reduce tasks=1\n",
      "\t\tData-local map tasks=8\n",
      "\t\tTotal time spent by all maps in occupied slots (ms)=23118\n",
      "\t\tTotal time spent by all reduces in occupied slots (ms)=3270\n",
      "\t\tTotal time spent by all map tasks (ms)=23118\n",
      "\t\tTotal time spent by all reduce tasks (ms)=3270\n",
      "\t\tTotal vcore-milliseconds taken by all map tasks=23118\n",
      "\t\tTotal vcore-milliseconds taken by all reduce tasks=3270\n",
      "\t\tTotal megabyte-milliseconds taken by all map tasks=23672832\n",
      "\t\tTotal megabyte-milliseconds taken by all reduce tasks=3348480\n",
      "\tMap-Reduce Framework\n",
      "\t\tMap input records=427175\n",
      "\t\tMap output records=427175\n",
      "\t\tMap output bytes=5370522\n",
      "\t\tMap output materialized bytes=6224930\n",
      "\t\tInput split bytes=1016\n",
      "\t\tCombine input records=0\n",
      "\t\tCombine output records=0\n",
      "\t\tReduce input groups=2075\n",
      "\t\tReduce shuffle bytes=6224930\n",
      "\t\tReduce input records=427175\n",
      "\t\tReduce output records=427175\n",
      "\t\tSpilled Records=854350\n",
      "\t\tShuffled Maps =8\n",
      "\t\tFailed Shuffles=0\n",
      "\t\tMerged Map outputs=8\n",
      "\t\tGC time elapsed (ms)=757\n",
      "\t\tCPU time spent (ms)=17880\n",
      "\t\tPhysical memory (bytes) snapshot=2603446272\n",
      "\t\tVirtual memory (bytes) snapshot=18111086592\n",
      "\t\tTotal committed heap usage (bytes)=1710751744\n",
      "\tShuffle Errors\n",
      "\t\tBAD_ID=0\n",
      "\t\tCONNECTION=0\n",
      "\t\tIO_ERROR=0\n",
      "\t\tWRONG_LENGTH=0\n",
      "\t\tWRONG_MAP=0\n",
      "\t\tWRONG_REDUCE=0\n",
      "\tWiki stats2\n",
      "\t\tUnique words=427175\n",
      "\tFile Input Format Counters \n",
      "\t\tBytes Read=5370513\n",
      "\tFile Output Format Counters \n",
      "\t\tBytes Written=5370513\n",
      "18/02/14 04:28:36 INFO streaming.StreamJob: Output directory: wordcount_result_1518514225204\n"
     ]
    }
   ],
   "source": [
    "%%bash\n",
    "\n",
    "OUT_DIR=\"wordcount_result_1518514225104\"\n",
    "NUM_REDUCERS=8\n",
    "\n",
    "hdfs dfs -rm -r -skipTrash ${OUT_DIR} > /dev/null 2>/dev/null\n",
    "#First job to sort the files\n",
    "yarn jar /opt/cloudera/parcels/CDH/lib/hadoop-mapreduce/hadoop-streaming.jar \\\n",
    "    -D mapred.jab.name=\"Streaming wordCount\" \\\n",
    "    -D mapreduce.job.reduces=${NUM_REDUCERS} \\\n",
    "    -files mapper.py,reducer.py \\\n",
    "    -mapper \"python mapper.py\" \\\n",
    "    -combiner \"python reducer.py\" \\\n",
    "    -reducer \"python reducer.py\" \\\n",
    "    -input /data/wiki/en_articles_part \\\n",
    "    -output ${OUT_DIR} > /dev/null 2> output.log\n",
    "OUT_DIR_2=\"wordcount_result_1518514225204\"\n",
    "NUM_REDUCERS=1\n",
    "hdfs dfs -rm -r -skipTrash ${OUT_DIR_2} > /dev/null 2>/dev/null\n",
    "yarn jar /opt/cloudera/parcels/CDH/lib/hadoop-mapreduce/hadoop-streaming.jar \\\n",
    "    -D mapred.jab.name=\"Streaming wordCount2\" \\\n",
    "    -D mapreduce.job.reduces=${NUM_REDUCERS} \\\n",
    "    -D mapreduce.job.output.key.comparator.class=org.apache.hadoop.mapred.lib.KeyFieldBasedComparator \\\n",
    "    -D  mapred.text.key.comparator.options=-nr \\\n",
    "    -files mapper_w.py,reducer_w.py \\\n",
    "    -mapper \"python mapper_w.py\" \\\n",
    "    -reducer \"python reducer_w.py\" \\\n",
    "    -input  ${OUT_DIR}\\\n",
    "    -output ${OUT_DIR_2} > /dev/null 2>> output.log\n",
    "hdfs dfs -cat wordcount_result_1518514225204/part* 2>/dev/null| head -7|tail -1\n",
    "cat output.log >&2\n"
   ]
  },
  {
   "cell_type": "code",
   "execution_count": null,
   "metadata": {},
   "outputs": [],
   "source": []
  }
 ],
 "metadata": {
  "kernelspec": {
   "display_name": "Python 2",
   "language": "python",
   "name": "python2"
  },
  "language_info": {
   "codemirror_mode": {
    "name": "ipython",
    "version": 2
   },
   "file_extension": ".py",
   "mimetype": "text/x-python",
   "name": "python",
   "nbconvert_exporter": "python",
   "pygments_lexer": "ipython2",
   "version": "2.7.12"
  }
 },
 "nbformat": 4,
 "nbformat_minor": 2
}
