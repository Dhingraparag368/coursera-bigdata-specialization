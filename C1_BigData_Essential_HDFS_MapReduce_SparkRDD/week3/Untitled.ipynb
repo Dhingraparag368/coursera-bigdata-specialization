{
 "cells": [
  {
   "cell_type": "code",
   "execution_count": 10,
   "metadata": {},
   "outputs": [
    {
     "name": "stdout",
     "output_type": "stream",
     "text": [
      "1 : 0.2857142857142857\n",
      "2 : 0.14285714285714285\n",
      "3 : 0.2857142857142857\n",
      "4 : 0.14285714285714285\n",
      "5 : 0.14285714285714285\n"
     ]
    }
   ],
   "source": [
    "from collections import Counter\n",
    "x=[1,1,2,3,3,4,5]\n",
    "cnt=Counter(x)\n",
    "total=sum(cnt.values())\n",
    "for key in cnt: \n",
    "    print(key,\":\",cnt[key]/total)"
   ]
  },
  {
   "cell_type": "code",
   "execution_count": null,
   "metadata": {
    "collapsed": true
   },
   "outputs": [],
   "source": []
  }
 ],
 "metadata": {
  "kernelspec": {
   "display_name": "Python [conda env:dl]",
   "language": "python",
   "name": "conda-env-dl-py"
  },
  "language_info": {
   "codemirror_mode": {
    "name": "ipython",
    "version": 3
   },
   "file_extension": ".py",
   "mimetype": "text/x-python",
   "name": "python",
   "nbconvert_exporter": "python",
   "pygments_lexer": "ipython3",
   "version": "3.5.4"
  }
 },
 "nbformat": 4,
 "nbformat_minor": 2
}
