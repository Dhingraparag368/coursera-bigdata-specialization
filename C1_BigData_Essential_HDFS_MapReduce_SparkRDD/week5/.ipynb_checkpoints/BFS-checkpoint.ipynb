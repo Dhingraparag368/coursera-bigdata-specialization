{
 "cells": [
  {
   "cell_type": "code",
   "execution_count": null,
   "metadata": {
    "collapsed": true
   },
   "outputs": [],
   "source": [
    "from pyspark import SparkConf, SparkContext\n",
    "sc = SparkContext(conf=SparkConf().setAppName(\"MyApp\").setMaster(\"local\"))\n",
    "def parse_edge(s):\n",
    "  user, follower = s.split(\"\\t\")\n",
    "  return (int(user), int(follower))\n",
    "\n",
    "def step(item):\n",
    "  prev_v, prev_d, next_v = item[0], item[1][0], item[1][1]\n",
    "  return (next_v, prev_d+[next_v])\n",
    "\n",
    "def complete(item):\n",
    "  v, old_d, new_d = item[0], item[1][0], item[1][1]\n",
    "  return (v, old_d if old_d is not None else new_d)\n",
    "\n",
    " # number of partitions\n",
    "n = 4\n",
    "edges = sc.textFile(\"/data/twitter/twitter_sample.txt\").map(parse_edge).cache()\n",
    "forward_edges = edges.map(lambda e: (e[1], e[0])).partitionBy(n).persist()\n",
    "x = 12\n",
    "d = 0\n",
    "y=34\n",
    "distances = sc.parallelize([(x,[x])]).partitionBy(n)\n",
    "while True:\n",
    "    #Get RDD's with neighbour Give output with edges and array of list\n",
    "    \n",
    "    new_distances = distances.join(forward_edges, n).map(step).persist()\n",
    "    #new_distances = distances.fullOuterJoin(candidates, n).map(complete, True).persist()\n",
    "    #print(new_distances.take(5))\n",
    "    #break\n",
    "    count = new_distances.filter(lambda x:x[0] == y).count()\n",
    "    if count == 0:\n",
    "        d+= 1\n",
    "        distances = new_distances\n",
    "        #print(\"Distances RDD count\",distances.count(),\"d = \", d)\n",
    "    else:\n",
    "        break\n",
    "path=new_distances.filter(lambda x:x[0] == y).collect()\n",
    "print(\",\".join(map(str,path[0][1])))\n",
    "sc.stop()"
   ]
  }
 ],
 "metadata": {
  "kernelspec": {
   "display_name": "Python [default]",
   "language": "python",
   "name": "python3"
  },
  "language_info": {
   "codemirror_mode": {
    "name": "ipython",
    "version": 3
   },
   "file_extension": ".py",
   "mimetype": "text/x-python",
   "name": "python",
   "nbconvert_exporter": "python",
   "pygments_lexer": "ipython3",
   "version": "3.6.1"
  }
 },
 "nbformat": 4,
 "nbformat_minor": 2
}
