{
 "cells": [
  {
   "cell_type": "code",
   "execution_count": 1,
   "metadata": {},
   "outputs": [
    {
     "name": "stdout",
     "output_type": "stream",
     "text": [
      "Overwriting mapper.py\n"
     ]
    }
   ],
   "source": [
    "%%writefile mapper.py\n",
    "\n",
    "import sys\n",
    "import re\n",
    "from collections import Counter\n",
    "\n",
    "reload(sys)\n",
    "sys.setdefaultencoding('utf-8') # required to convert to unicode\n",
    "f = open(\"stop_words_en.txt\", \"r\") \n",
    "stop_words=f.read().split(\"\\n\")\n",
    "for line in sys.stdin:\n",
    "    try:\n",
    "        article_id, text = unicode(line.strip()).split('\\t', 1)\n",
    "    except ValueError as e:\n",
    "        continue\n",
    "    words = re.split(\"\\W*\\s+\\W*\", text, flags=re.UNICODE)\n",
    "    uniq_words=Counter([ word.lower() for word in words if word.lower() not in stop_words ])\n",
    "    total=float(sum(uniq_words.values()))\n",
    "    for word in uniq_words:\n",
    "        print >> sys.stderr, \"reporter:counter:Wiki stats,Total words,%d\" % 1\n",
    "        print \"%s\\t%f\" %(word+\":\"+\"0\",1)            \n",
    "        print \"%s\\t%f\" %(word+\":\"+article_id,uniq_words[word]/total)\n",
    "        #print(word)\n",
    "            "
   ]
  },
  {
   "cell_type": "code",
   "execution_count": 2,
   "metadata": {},
   "outputs": [
    {
     "name": "stdout",
     "output_type": "stream",
     "text": [
      "Overwriting reducer.py\n"
     ]
    }
   ],
   "source": [
    "%%writefile reducer.py\n",
    "\n",
    "import sys\n",
    "\n",
    "current_key = None\n",
    "word_sum = 0"
   ]
  },
  {
   "cell_type": "code",
   "execution_count": 3,
   "metadata": {},
   "outputs": [
    {
     "name": "stdout",
     "output_type": "stream",
     "text": [
      "Appending to reducer.py\n"
     ]
    }
   ],
   "source": [
    "%%writefile -a reducer.py\n",
    "\n",
    "for line in sys.stdin:\n",
    "    try:\n",
    "        key,count = line.strip().split('\\t', 1)\n",
    "        \n",
    "        \n",
    "    except ValueError as e:\n",
    "        continue\n",
    "    if not key.endswith(\":0\"):\n",
    "        print \"%s\\t%d\"%(key,count)\n",
    "    else:\n",
    "        count=int(count)\n",
    "                    \n",
    "        if current_key != key :\n",
    "            if current_key:\n",
    "                print \"%s\\t%d\" % (current_key, word_sum)\n",
    "        \n",
    "            word_sum = 0\n",
    "            current_key = key\n",
    "            word_sum += count\n",
    "    if current_key.endswith(\":0\"):\n",
    "        print \"%s\\t%d\" % (current_key, word_sum)"
   ]
  },
  {
   "cell_type": "code",
   "execution_count": 4,
   "metadata": {},
   "outputs": [
    {
     "name": "stdout",
     "output_type": "stream",
     "text": [
      "Overwriting mapper_1.py\n"
     ]
    }
   ],
   "source": [
    "%%writefile mapper_1.py\n",
    "\n",
    "import sys\n",
    "import re\n",
    "for line in sys.stdin:\n",
    "    try:\n",
    "        key,count = line.strip().split('\\t', 1)\n",
    "           \n",
    "    except ValueError as e:\n",
    "        continue\n",
    "    if key==\"labor:12\" or key==\"labor:0\":\n",
    "        print \"%s\\t%s\" % (key,count)\n"
   ]
  },
  {
   "cell_type": "code",
   "execution_count": null,
   "metadata": {},
   "outputs": [],
   "source": [
    "%%bash\n",
    "\n",
    "OUT_DIR=\"wordcount_result_1519019602556817\"\n",
    "NUM_REDUCERS=8\n",
    "\n",
    "hdfs dfs -rm -r -skipTrash ${OUT_DIR} > /dev/null 2>/dev/null\n",
    "\n",
    "yarn jar /opt/cloudera/parcels/CDH/lib/hadoop-mapreduce/hadoop-streaming.jar \\\n",
    "    -D mapred.jab.name=\"Streaming wordCount\" \\\n",
    "    -D mapreduce.job.reduces=${NUM_REDUCERS} \\\n",
    "    -files mapper.py,reducer.py,/datasets/stop_words_en.txt \\\n",
    "    -mapper \"python mapper.py\" \\\n",
    "    -reducer \"python reducer.py\" \\\n",
    "    -input /data/wiki/en_articles_part \\\n",
    "    -output ${OUT_DIR} > /dev/null\n",
    "\n"
   ]
  },
  {
   "cell_type": "code",
   "execution_count": null,
   "metadata": {},
   "outputs": [],
   "source": [
    "OUT_DIR_1=\"wordcount_result_1519019602566817\"\n",
    "NUM_REDUCERS=0\n",
    "\n",
    "hdfs dfs -rm -r -skipTrash ${OUT_DIR_1} > /dev/null 2>/dev/null\n",
    "\n",
    "yarn jar /opt/cloudera/parcels/CDH/lib/hadoop-mapreduce/hadoop-streaming.jar \\\n",
    "    -D mapred.jab.name=\"Streaming wordCount\" \\\n",
    "    -D mapreduce.job.reduces=${NUM_REDUCERS} \\\n",
    "    -files mapper_1.py \\\n",
    "    -mapper \"python mapper_1.py\" \\\n",
    "    -input ${OUT_DIR} \\\n",
    "    -output ${OUT_DIR_1} > /dev/null\n",
    "\n",
    "hdfs dfs -cat ${OUT_DIR1}/part-* | head"
   ]
  }
 ],
 "metadata": {
  "kernelspec": {
   "display_name": "Python 2",
   "language": "python",
   "name": "python2"
  },
  "language_info": {
   "codemirror_mode": {
    "name": "ipython",
    "version": 2
   },
   "file_extension": ".py",
   "mimetype": "text/x-python",
   "name": "python",
   "nbconvert_exporter": "python",
   "pygments_lexer": "ipython2",
   "version": "2.7.12"
  }
 },
 "nbformat": 4,
 "nbformat_minor": 2
}
