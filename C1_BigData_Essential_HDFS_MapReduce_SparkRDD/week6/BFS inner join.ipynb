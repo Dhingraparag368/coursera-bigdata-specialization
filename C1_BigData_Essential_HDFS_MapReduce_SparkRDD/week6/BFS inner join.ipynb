{
 "cells": [
  {
   "cell_type": "code",
   "execution_count": null,
   "metadata": {},
   "outputs": [],
   "source": [
    "def step(x):\n",
    "    vert,old_neig,new_neig=x[0],x[1][0],x[1][1]\n",
    "    print(old_neig,new_neig)\n",
    "    \n",
    "    return (new_neig,old_neig+list(new_neig))\n",
    "from pyspark import SparkConf, SparkContext\n",
    "sc = SparkContext(conf=SparkConf().setAppName(\"MyApp\").setMaster(\"local\"))\n",
    "g_a=[('A','B'),('A','C'),('B','A'),('B','D'),('B','E'),('C','A'),('C','F'),('D','B'),('E','B'),('E','F'),('F','C'),('F','E')]\n",
    "g=sc.parallelize(g_a)\n",
    "x='A'\n",
    "y='F'\n",
    "#start\n",
    "neig=sc.parallelize([(x,[])])\n",
    "while True:\n",
    "    neig_list=neig.join(g).map(step)\n",
    "    #rint(neig_list.collect())\n",
    "    cnt=neig_list.filter(lambda x:x[0]==y).count()\n",
    "    print(\"Count is \"+str(cnt))\n",
    "    if cnt>0:\n",
    "        break\n",
    "    neig=neig_list\n",
    "path=neig_list.filter(lambda x:x[0]==y)\n",
    "z=list(x)+path.collect()[0][1]\n",
    "print(\"Path is :\"+ \",\".join(z))\n",
    "\n",
    "sc.stop()"
   ]
  },
  {
   "cell_type": "code",
   "execution_count": null,
   "metadata": {
    "collapsed": true
   },
   "outputs": [],
   "source": [
    "sc.stop()"
   ]
  },
  {
   "cell_type": "markdown",
   "metadata": {},
   "source": [
    "\n",
    "graph = {'A': set(['B', 'C']),\n",
    "         'B': set(['A', 'D', 'E']),\n",
    "         'C': set(['A', 'F']),\n",
    "         'D': set(['B']),\n",
    "         'E': set(['B', 'F']),\n",
    "         'F': set(['C', 'E'])}\n",
    "         http://eddmann.com/posts/depth-first-search-and-breadth-first-search-in-python/"
   ]
  },
  {
   "cell_type": "code",
   "execution_count": null,
   "metadata": {
    "collapsed": true
   },
   "outputs": [],
   "source": []
  }
 ],
 "metadata": {
  "kernelspec": {
   "display_name": "Python [default]",
   "language": "python",
   "name": "python3"
  },
  "language_info": {
   "codemirror_mode": {
    "name": "ipython",
    "version": 3
   },
   "file_extension": ".py",
   "mimetype": "text/x-python",
   "name": "python",
   "nbconvert_exporter": "python",
   "pygments_lexer": "ipython3",
   "version": "3.6.1"
  }
 },
 "nbformat": 4,
 "nbformat_minor": 2
}
