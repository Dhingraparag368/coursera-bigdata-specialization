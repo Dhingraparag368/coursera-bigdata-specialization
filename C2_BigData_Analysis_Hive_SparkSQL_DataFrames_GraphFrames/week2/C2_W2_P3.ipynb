{
 "cells": [
  {
   "cell_type": "markdown",
   "metadata": {},
   "source": [
    "Calculate number of questions and answers depending on users' age.\n",
    "Use аge from 'users' table, filter out users if their age is undefined. Output format"
   ]
  },
  {
   "cell_type": "markdown",
   "metadata": {},
   "source": [
    "age <tab> number of questions <tab> number of answers"
   ]
  },
  {
   "cell_type": "code",
   "execution_count": 17,
   "metadata": {},
   "outputs": [
    {
     "name": "stdout",
     "output_type": "stream",
     "text": [
      "Overwriting query.hql\n"
     ]
    }
   ],
   "source": [
    "%%writefile query.hql\n",
    "\n",
    "ADD JAR /opt/cloudera/parcels/CDH/lib/hive/lib/hive-contrib.jar;\n",
    "ADD JAR /opt/cloudera/parcels/CDH/lib/hive/lib/hive-serde.jar;"
   ]
  },
  {
   "cell_type": "code",
   "execution_count": 18,
   "metadata": {},
   "outputs": [
    {
     "name": "stdout",
     "output_type": "stream",
     "text": [
      "Appending to query.hql\n"
     ]
    }
   ],
   "source": [
    "%%writefile -a query.hql\n",
    "\n",
    "USE stackoverflow_;"
   ]
  },
  {
   "cell_type": "code",
   "execution_count": 19,
   "metadata": {},
   "outputs": [
    {
     "name": "stdout",
     "output_type": "stream",
     "text": [
      "Appending to query.hql\n"
     ]
    }
   ],
   "source": [
    "%%writefile -a query.hql\n",
    "select B.age,\n",
    "      sum(case \n",
    "          when A.post_type_id=1 then 1\n",
    "         ELSE 0\n",
    "         END) as ques,\n",
    "    sum(case \n",
    "          when A.post_type_id=2 then 1\n",
    "         ELSE 0\n",
    "         END) ans\n",
    "      from posts A\n",
    "        inner join users B\n",
    "        on A.owner_user_id =B.id \n",
    "        where B.age is not NULL\n",
    "        group by B.age\n",
    "        order by B.age asc;\n",
    "    \n",
    "    "
   ]
  },
  {
   "cell_type": "code",
   "execution_count": 20,
   "metadata": {},
   "outputs": [
    {
     "name": "stdout",
     "output_type": "stream",
     "text": [
      "\n",
      "Logging initialized using configuration in jar:file:/usr/local/apache-hive-1.1.0-bin/lib/hive-common-1.1.0.jar!/hive-log4j.properties\n",
      "Added [/opt/cloudera/parcels/CDH/lib/hive/lib/hive-contrib.jar] to class path\n",
      "Added resources: [/opt/cloudera/parcels/CDH/lib/hive/lib/hive-contrib.jar]\n",
      "Added [/opt/cloudera/parcels/CDH/lib/hive/lib/hive-serde.jar] to class path\n",
      "Added resources: [/opt/cloudera/parcels/CDH/lib/hive/lib/hive-serde.jar]\n",
      "OK\n",
      "Time taken: 1.099 seconds\n",
      "Query ID = jovyan_20180301002626_aa46a72b-857f-4ff5-955b-a30b4afd3d8d\n",
      "Total jobs = 2\n",
      "Execution log at: /tmp/jovyan/jovyan_20180301002626_aa46a72b-857f-4ff5-955b-a30b4afd3d8d.log\n",
      "2018-03-01 12:27:05\tStarting to launch local task to process map join;\tmaximum memory = 477626368\n",
      "2018-03-01 12:27:07\tDump the side-table for tag: 1 with group count: 5951 into file: file:/tmp/jovyan/f4bf280e-ef7c-4bb4-af18-e05e5d14628b/hive_2018-03-01_00-26-54_956_4163337214328745302-1/-local-10005/HashTable-Stage-2/MapJoin-mapfile01--.hashtable\n",
      "2018-03-01 12:27:07\tUploaded 1 File to: file:/tmp/jovyan/f4bf280e-ef7c-4bb4-af18-e05e5d14628b/hive_2018-03-01_00-26-54_956_4163337214328745302-1/-local-10005/HashTable-Stage-2/MapJoin-mapfile01--.hashtable (137665 bytes)\n",
      "2018-03-01 12:27:07\tEnd of local task; Time Taken: 2.33 sec.\n",
      "Execution completed successfully\n",
      "MapredLocal task succeeded\n",
      "Launching Job 1 out of 2\n",
      "Number of reduce tasks not specified. Estimated from input data size: 1\n",
      "In order to change the average load for a reducer (in bytes):\n",
      "  set hive.exec.reducers.bytes.per.reducer=<number>\n",
      "In order to limit the maximum number of reducers:\n",
      "  set hive.exec.reducers.max=<number>\n",
      "In order to set a constant number of reducers:\n",
      "  set mapreduce.job.reduces=<number>\n",
      "Starting Job = job_1519861232887_0004, Tracking URL = http://a851e2af6b34:8088/proxy/application_1519861232887_0004/\n",
      "Kill Command = /opt/hadoop/bin/hadoop job  -kill job_1519861232887_0004\n",
      "Hadoop job information for Stage-2: number of mappers: 1; number of reducers: 1\n",
      "2018-03-01 00:27:24,601 Stage-2 map = 0%,  reduce = 0%\n",
      "2018-03-01 00:27:35,573 Stage-2 map = 100%,  reduce = 0%, Cumulative CPU 8.86 sec\n",
      "2018-03-01 00:27:46,468 Stage-2 map = 100%,  reduce = 100%, Cumulative CPU 14.49 sec\n",
      "MapReduce Total cumulative CPU time: 14 seconds 490 msec\n",
      "Ended Job = job_1519861232887_0004\n",
      "Launching Job 2 out of 2\n",
      "Number of reduce tasks determined at compile time: 1\n",
      "In order to change the average load for a reducer (in bytes):\n",
      "  set hive.exec.reducers.bytes.per.reducer=<number>\n",
      "In order to limit the maximum number of reducers:\n",
      "  set hive.exec.reducers.max=<number>\n",
      "In order to set a constant number of reducers:\n",
      "  set mapreduce.job.reduces=<number>\n",
      "Starting Job = job_1519861232887_0005, Tracking URL = http://a851e2af6b34:8088/proxy/application_1519861232887_0005/\n",
      "Kill Command = /opt/hadoop/bin/hadoop job  -kill job_1519861232887_0005\n",
      "Hadoop job information for Stage-3: number of mappers: 1; number of reducers: 1\n",
      "2018-03-01 00:28:04,458 Stage-3 map = 0%,  reduce = 0%\n",
      "2018-03-01 00:28:13,066 Stage-3 map = 100%,  reduce = 0%, Cumulative CPU 2.04 sec\n",
      "2018-03-01 00:28:21,774 Stage-3 map = 100%,  reduce = 100%, Cumulative CPU 6.15 sec\n",
      "MapReduce Total cumulative CPU time: 6 seconds 150 msec\n",
      "Ended Job = job_1519861232887_0005\n",
      "MapReduce Jobs Launched: \n",
      "Stage-Stage-2: Map: 1  Reduce: 1   Cumulative CPU: 14.49 sec   HDFS Read: 2261548 HDFS Write: 1056 SUCCESS\n",
      "Stage-Stage-3: Map: 1  Reduce: 1   Cumulative CPU: 6.15 sec   HDFS Read: 5622 HDFS Write: 376 SUCCESS\n",
      "Total MapReduce CPU Time Spent: 20 seconds 640 msec\n",
      "OK\n",
      "14\t1\t0\n",
      "15\t1\t2\n",
      "16\t2\t0\n",
      "17\t0\t1\n",
      "18\t4\t1\n",
      "19\t1\t1\n",
      "20\t0\t2\n",
      "21\t11\t24\n",
      "22\t6\t18\n",
      "23\t12\t15\n",
      "24\t16\t27\n",
      "25\t20\t33\n",
      "26\t23\t44\n",
      "27\t28\t56\n",
      "28\t24\t37\n",
      "29\t24\t66\n",
      "30\t26\t67\n",
      "31\t17\t33\n",
      "32\t13\t48\n",
      "33\t11\t40\n",
      "34\t24\t36\n",
      "35\t12\t42\n",
      "36\t8\t64\n",
      "37\t9\t35\n",
      "38\t6\t17\n",
      "39\t3\t7\n",
      "40\t1\t13\n",
      "41\t5\t20\n",
      "42\t5\t22\n",
      "43\t2\t26\n",
      "44\t7\t35\n",
      "45\t1\t4\n",
      "46\t7\t9\n",
      "47\t1\t1\n",
      "48\t1\t1\n",
      "49\t1\t26\n",
      "50\t1\t26\n",
      "51\t4\t5\n",
      "52\t0\t2\n",
      "53\t0\t2\n",
      "54\t0\t1\n",
      "57\t0\t3\n",
      "58\t1\t57\n",
      "60\t0\t6\n",
      "61\t0\t3\n",
      "64\t2\t1\n",
      "86\t0\t1\n",
      "96\t3\t1\n",
      "Time taken: 87.975 seconds, Fetched: 48 row(s)\n"
     ]
    }
   ],
   "source": [
    "! hive -f query.hql"
   ]
  }
 ],
 "metadata": {
  "kernelspec": {
   "display_name": "Python 2",
   "language": "python",
   "name": "python2"
  },
  "language_info": {
   "codemirror_mode": {
    "name": "ipython",
    "version": 2
   },
   "file_extension": ".py",
   "mimetype": "text/x-python",
   "name": "python",
   "nbconvert_exporter": "python",
   "pygments_lexer": "ipython2",
   "version": "2.7.12"
  }
 },
 "nbformat": 4,
 "nbformat_minor": 2
}
