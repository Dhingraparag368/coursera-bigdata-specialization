{
 "cells": [
  {
   "cell_type": "markdown",
   "metadata": {},
   "source": [
    "%%writefile creation_db.hql\n",
    "\n",
    "DROP DATABASE IF EXISTS demodb CASCADE;"
   ]
  },
  {
   "cell_type": "markdown",
   "metadata": {},
   "source": [
    "%%writefile -a creation_db.hql\n",
    "CREATE DATABASE demodb LOCATION '/user/jovyan/somemetastore';"
   ]
  },
  {
   "cell_type": "markdown",
   "metadata": {},
   "source": [
    "! hive -f creation_db.hql"
   ]
  },
  {
   "cell_type": "code",
   "execution_count": 16,
   "metadata": {},
   "outputs": [
    {
     "name": "stdout",
     "output_type": "stream",
     "text": [
      "Overwriting external_table.hql\n"
     ]
    }
   ],
   "source": [
    "%%writefile external_table.hql\n",
    "\n",
    "ADD JAR /opt/cloudera/parcels/CDH/lib/hive/lib/hive-contrib.jar;\n",
    "\n",
    "USE demodb;\n",
    "DROP TABLE IF EXISTS posts_sample_external;\n",
    "DROP TABLE IF EXISTS posts_sample;\n",
    "CREATE EXTERNAL TABLE posts_sample_external (\n",
    "id int,\n",
    "posttypeid int,\n",
    "creationdate string,\n",
    "tags string,\n",
    "owneruserid int,\n",
    "parentid int,\n",
    "score int,\n",
    "favoritecount int\n",
    ")\n",
    "ROW FORMAT\n",
    "SERDE 'org.apache.hadoop.hive.serde2.RegexSerDe'\n",
    "WITH SERDEPROPERTIES (\n",
    "\"input.regex\" = '^\\<row(?=.*\\\\bId=\\\"(\\\\d+))(?=.*\\\\bPostTypeId=\\\"(\\\\d+))(?=.*\\\\bCreationDate=\\\"([0-9-T:.]+)\\\")(?=.*\\\\bTags=\\\"([\\\\S\\\\s]+)\\\")?(?=.*\\bOwnerUserId=\\\"(\\\\d+))?(?=.*\\\\bParentId=\\\"(\\\\d+))?(?=.*\\\\bScore=\\\"(\\\\d\\+))?(?=.*\\\\bFavoriteCount =\\\"(\\\\d+))?.*$'\n",
    ")\n",
    "LOCATION '/data/stackexchange1000/posts/';\n",
    "\n",
    "CREATE TABLE posts_sample (\n",
    "id int,\n",
    "posttypeid int,\n",
    "creationdate string,\n",
    "tags string,\n",
    "owneruserid int,\n",
    "parentid int,\n",
    "score int,\n",
    "favoritecount int\n",
    ")\n",
    "PARTITIONED BY (year STRING,month STRING)\n",
    "ROW FORMAT DELIMITED\n",
    "FIELDS TERMINATED BY ','\n",
    "STORED AS TEXTFILE;\n",
    "\n"
   ]
  },
  {
   "cell_type": "code",
   "execution_count": 17,
   "metadata": {},
   "outputs": [
    {
     "name": "stdout",
     "output_type": "stream",
     "text": [
      "Appending to external_table.hql\n"
     ]
    }
   ],
   "source": [
    "%%writefile -a external_table.hql\n",
    "SET hive.exec.dynamic.partition = true;\n",
    "set hive.exec.dynamic.partition.mode=nonstrict;\n",
    "set hive.exec.max.dynamic.partitions=2000;\n",
    "set hive.exec.max.dynamic.partitions.pernode=1000;\n",
    "INSERT OVERWRITE TABLE posts_sample partition(year,month)\n",
    "Select \n",
    "id ,\n",
    "posttypeid ,\n",
    "creationdate ,\n",
    "tags ,\n",
    "owneruserid ,\n",
    "parentid ,\n",
    "score ,\n",
    "favoritecount,\n",
    "substr(creationdate,1,4) as year,\n",
    "substr(creationdate,1,7) as month\n",
    "from posts_sample_external ;\n",
    "with \n",
    "B as\n",
    "(\n",
    "    select year,month,cnt,row_number() over(order by month asc) as rn from A \n",
    "),\n",
    "A as\n",
    "(select year,month,count(*) as cnt from posts_sample group by year,month )\n",
    "select year,month,cnt from B where rn=3;"
   ]
  },
  {
   "cell_type": "code",
   "execution_count": null,
   "metadata": {},
   "outputs": [
    {
     "name": "stdout",
     "output_type": "stream",
     "text": [
      "\n",
      "Logging initialized using configuration in jar:file:/usr/local/apache-hive-1.1.0-bin/lib/hive-common-1.1.0.jar!/hive-log4j.properties\n",
      "Added [/opt/cloudera/parcels/CDH/lib/hive/lib/hive-contrib.jar] to class path\n",
      "Added resources: [/opt/cloudera/parcels/CDH/lib/hive/lib/hive-contrib.jar]\n",
      "OK\n",
      "Time taken: 1.073 seconds\n",
      "OK\n",
      "Time taken: 1.626 seconds\n",
      "OK\n",
      "Time taken: 3.146 seconds\n",
      "OK\n",
      "Time taken: 0.652 seconds\n",
      "OK\n",
      "Time taken: 0.299 seconds\n",
      "Query ID = jovyan_20180228062222_2d57c3a4-e997-4105-aa9c-d04745da0f71\n",
      "Total jobs = 3\n",
      "Launching Job 1 out of 3\n",
      "Number of reduce tasks is set to 0 since there's no reduce operator\n",
      "Starting Job = job_1519792833153_0020, Tracking URL = http://f860572437fc:8088/proxy/application_1519792833153_0020/\n",
      "Kill Command = /opt/hadoop/bin/hadoop job  -kill job_1519792833153_0020\n",
      "Hadoop job information for Stage-1: number of mappers: 1; number of reducers: 0\n",
      "2018-02-28 06:22:47,644 Stage-1 map = 0%,  reduce = 0%\n",
      "2018-02-28 06:23:06,157 Stage-1 map = 26%,  reduce = 0%, Cumulative CPU 17.71 sec\n",
      "2018-02-28 06:23:11,523 Stage-1 map = 43%,  reduce = 0%, Cumulative CPU 24.36 sec\n",
      "2018-02-28 06:23:17,982 Stage-1 map = 60%,  reduce = 0%, Cumulative CPU 30.36 sec\n",
      "2018-02-28 06:23:24,367 Stage-1 map = 78%,  reduce = 0%, Cumulative CPU 36.43 sec\n",
      "2018-02-28 06:23:29,689 Stage-1 map = 95%,  reduce = 0%, Cumulative CPU 43.05 sec\n",
      "2018-02-28 06:23:36,106 Stage-1 map = 100%,  reduce = 0%, Cumulative CPU 45.98 sec\n"
     ]
    }
   ],
   "source": [
    "! hive -f external_table.hql \n"
   ]
  },
  {
   "cell_type": "code",
   "execution_count": null,
   "metadata": {
    "collapsed": true
   },
   "outputs": [],
   "source": []
  }
 ],
 "metadata": {
  "kernelspec": {
   "display_name": "Python [conda env:dl]",
   "language": "python",
   "name": "conda-env-dl-py"
  },
  "language_info": {
   "codemirror_mode": {
    "name": "ipython",
    "version": 3
   },
   "file_extension": ".py",
   "mimetype": "text/x-python",
   "name": "python",
   "nbconvert_exporter": "python",
   "pygments_lexer": "ipython3",
   "version": "3.5.4"
  }
 },
 "nbformat": 4,
 "nbformat_minor": 2
}
