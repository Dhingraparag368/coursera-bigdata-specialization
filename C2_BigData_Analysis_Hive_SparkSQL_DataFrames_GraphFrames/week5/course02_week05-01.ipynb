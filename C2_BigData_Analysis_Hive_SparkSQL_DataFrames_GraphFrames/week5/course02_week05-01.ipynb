{
 "cells": [
  {
   "cell_type": "code",
   "execution_count": null,
   "metadata": {},
   "outputs": [],
   "source": [
    "import os\n",
    "from pyspark.sql import SparkSession\n",
    "sparkSession = SparkSession.builder.enableHiveSupport().master(\"local\").getOrCreate()"
   ]
  },
  {
   "cell_type": "code",
   "execution_count": null,
   "metadata": {},
   "outputs": [],
   "source": [
    "data = sparkSession.read.parquet(\"/data/sample264\")\n",
    "dataforNext=sparkSession.read.parquet(\"/data/sample264\")\n",
    "meta = sparkSession.read.parquet(\"/data/meta\")\n",
    "dataforNext=dataforNext.select('userId',  \\\n",
    "                         dataforNext.trackId.alias('trackId1'), \\\n",
    "                         dataforNext.timestamp.alias('timestamp1'))\n"
   ]
  },
  {
   "cell_type": "markdown",
   "metadata": {},
   "source": [
    "## Normalization could be done by next function"
   ]
  },
  {
   "cell_type": "code",
   "execution_count": null,
   "metadata": {},
   "outputs": [],
   "source": [
    "from pyspark.sql import Window\n",
    "from pyspark.sql.functions import row_number, sum\n",
    "\n",
    "def norm(df, key1, key2, field, n): \n",
    "    \n",
    "    window = Window.partitionBy(key1).orderBy(col(field).desc())\n",
    "        \n",
    "    topsDF = df.withColumn(\"row_number\", row_number().over(window)) \\\n",
    "        .filter(col(\"row_number\") <= n) \\\n",
    "        .drop(col(\"row_number\")) \n",
    "        \n",
    "    tmpDF = topsDF.groupBy(col(key1)).agg(col(key1), sum(col(field)).alias(\"sum_\" + field))\n",
    "   \n",
    "    normalizedDF = topsDF.join(tmpDF, key1, \"inner\") \\\n",
    "        .withColumn(\"norm_\" + field, col(field) / col(\"sum_\" + field)) \\\n",
    "        .cache()\n",
    "\n",
    "    return normalizedDF"
   ]
  },
  {
   "cell_type": "code",
   "execution_count": null,
   "metadata": {},
   "outputs": [],
   "source": [
    "from pyspark.sql import Window\n",
    "from pyspark.sql.functions import col, rank,when\n",
    "\n",
    "dataJoined = data.join(dataforNext, data.userId == dataforNext.userId )\\\n",
    "                       .filter(data.trackId!=dataforNext.trackId1) \\\n",
    "                       .filter((dataforNext.timestamp1-data.timestamp<=420) & (dataforNext.timestamp1-data.timestamp>0) ) \\\n",
    "                    .select(data.userId,  \\\n",
    "                         data.trackId.alias('trackId1'), \\\n",
    "                         dataforNext.trackId1.alias('trackId2')) \\\n",
    "                .withColumn(\"id\", when((col('trackId2')>=col('trackId1')),col('trackId1')).otherwise(col('trackId2'))) \\\n",
    "                .withColumn(\"id2\", when((col('trackId1')<=col('trackId2')),col('trackId2')).otherwise(col('trackId1'))) \n",
    "trackData = dataJoined.groupBy('id', 'id2').count()\n",
    "trackDataNorm = norm(trackData, \"id\",\"id2\", \"count\", 40)\n",
    "window = Window.orderBy(col(\"norm_count\").desc())\n",
    "trackList = trackDataNorm.withColumn(\"position\", rank().over(window)) \\\n",
    "                         .filter(col(\"position\") <= 50)\\\n",
    "                         .sort([\"norm_count\",\"id\",\"id2\"],ascending=[0,1,1])\\\n",
    "                        .select(col(\"id\"), col(\"id2\"))\\\n",
    "                          .take(40)\n"
   ]
  },
  {
   "cell_type": "code",
   "execution_count": null,
   "metadata": {},
   "outputs": [],
   "source": [
    "for val in trackList:\n",
    "    print \"%s %s\" % val"
   ]
  }
 ],
 "metadata": {
  "kernelspec": {
   "display_name": "Python 2",
   "language": "python",
   "name": "python2"
  },
  "language_info": {
   "codemirror_mode": {
    "name": "ipython",
    "version": 2
   },
   "file_extension": ".py",
   "mimetype": "text/x-python",
   "name": "python",
   "nbconvert_exporter": "python",
   "pygments_lexer": "ipython2",
   "version": "2.7.12"
  }
 },
 "nbformat": 4,
 "nbformat_minor": 2
}
