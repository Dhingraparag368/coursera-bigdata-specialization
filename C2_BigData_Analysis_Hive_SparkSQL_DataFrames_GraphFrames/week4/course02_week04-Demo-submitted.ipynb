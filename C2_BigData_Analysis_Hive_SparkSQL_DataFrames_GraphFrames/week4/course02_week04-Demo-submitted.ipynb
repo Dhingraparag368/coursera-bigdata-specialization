{
 "cells": [
  {
   "cell_type": "markdown",
   "metadata": {},
   "source": [
    "For each user having ID in the column userId count the amount of his / her common friends with each other user having ID in the column userId.\n",
    "\n",
    "Print 49 pairs of the users having the largest amount of common friends, ordered in descending order first by the common friends count , then by id of user1 and finally by id of user 2. The format is following: \"count user1 user2\"7\n",
    "\n",
    "Example:\n",
    "\n",
    "234\t54719\t767867\n",
    "\n",
    "120\t54719 767866\n",
    "\n",
    "97 50787 327676\n",
    "\n",
    "To solve this task use the algorithm described in the last video of lesson 1. The overall plan could look like this:\n",
    "\n",
    "*Create a new column “friend” by exploding of column “friends” (like in the demo iPython notebook)\n",
    "group the resulting dataframe by the column “friend” (like in the demo iPython notebook)\n",
    "*create a column “users” by collecting all users with the same id in the column “friend” together (like in the demo iPython notebook)\n",
    "*sort the elements in the column “users” by the function sort_array\n",
    "*filter only the rows which have more than 1 element in the column “users”\n",
    "*for each row emit all possible ordered pairs of users from the column “users” (tip: write a user defined function for this)\n",
    "*count the number of times each pair has appeared\n",
    "*with the help of the window function (like in the demo python notebook) select 49 pairs of users who have the biggest amount of common friends\n",
    "*The sample dataset is located at /data/graphDFSample."
   ]
  },
  {
   "cell_type": "code",
   "execution_count": 2,
   "metadata": {},
   "outputs": [],
   "source": [
    "from pyspark.sql import SparkSession\n",
    "sparkSession = SparkSession.builder.enableHiveSupport().master(\"local\").getOrCreate()"
   ]
  },
  {
   "cell_type": "code",
   "execution_count": 3,
   "metadata": {},
   "outputs": [],
   "source": [
    "graphPath = \"/data/graphDFSample\""
   ]
  },
  {
   "cell_type": "code",
   "execution_count": 4,
   "metadata": {
    "collapsed": true
   },
   "outputs": [],
   "source": [
    "from pyspark.sql.functions import explode, collect_list, size, col, row_number,sort_array,udf,count,desc\n",
    "from pyspark.sql import Window\n",
    "from pyspark.sql.types import IntegerType,ArrayType\n",
    "import itertools\n",
    "def get_all_pairs(list_): \n",
    "    return [ list(el) for el in itertools.combinations(list_,2) ]\n",
    "get_all_pairs_UDF = udf(get_all_pairs, ArrayType(ArrayType(IntegerType())))\n",
    "\n",
    "reversedGraph_r = sparkSession.read.parquet(graphPath)\n",
    "reversedGraph = sparkSession.read.parquet(graphPath) \\\n",
    "    .withColumn(\"friend\", explode('friends')) \\\n",
    "    .groupBy(\"friend\") \\\n",
    "    .agg(collect_list(\"user\").alias(\"users\"))\\\n",
    "    .filter(size(col(\"users\"))>1) \n"
   ]
  },
  {
   "cell_type": "code",
   "execution_count": 5,
   "metadata": {},
   "outputs": [
    {
     "name": "stdout",
     "output_type": "stream",
     "text": [
      "root\n",
      " |-- friend: integer (nullable = true)\n",
      " |-- users: array (nullable = true)\n",
      " |    |-- element: integer (containsNull = true)\n",
      " |-- users_size: integer (nullable = false)\n",
      "\n"
     ]
    }
   ],
   "source": [
    "reversedGraph1=reversedGraph.select(\"friend\",sort_array(\"users\").alias(\"users\")) \\\n",
    "    .withColumn(\"user_pair\", explode(get_all_pairs_UDF(\"users\"))).drop(\"users\") \\\n",
    "    .withColumn('user1', col(\"user_pair\")[0]) \\\n",
    "    .withColumn('user2', col(\"user_pair\")[1]).drop(\"user_pair\")\n",
    "    \n",
    "friends_count = reversedGraph1.groupBy([\"user1\", \"user2\"]) \\\n",
    "    .agg(count(\"friend\").alias(\"friends_count\"))\n"
   ]
  },
  {
   "cell_type": "code",
   "execution_count": 6,
   "metadata": {
    "collapsed": true
   },
   "outputs": [],
   "source": [
    "window = Window.orderBy(col(\"friends_count\").desc(),col(\"user1\"),col(\"user2\"))\n",
    "top50 = friends_count.withColumn(\"row_number\", row_number().over(window)) \\\n",
    "    .filter(col(\"row_number\") < 50) \\\n",
    "    .select(col(\"friends_count\"), col(\"user1\"), col(\"user2\")) \\\n",
    "    .orderBy(col(\"friends_count\").desc()) \\\n",
    "    .collect()"
   ]
  },
  {
   "cell_type": "code",
   "execution_count": 7,
   "metadata": {},
   "outputs": [
    {
     "name": "stdout",
     "output_type": "stream",
     "text": [
      "9606655 244\n",
      "62922315 241\n",
      "1288836 240\n",
      "36402159 239\n",
      "36079654 239\n",
      "40342046 235\n",
      "24319760 234\n",
      "34854364 234\n",
      "45353567 233\n",
      "28229916 231\n",
      "16364918 230\n",
      "52511791 229\n",
      "549319 227\n",
      "5137947 227\n",
      "65079230 227\n",
      "17636074 226\n",
      "49067109 225\n",
      "53106903 225\n",
      "6570168 223\n",
      "44621704 223\n",
      "34850500 223\n",
      "27338193 222\n",
      "32810368 222\n",
      "25606717 222\n",
      "34201873 220\n",
      "6147442 219\n",
      "62386165 219\n",
      "45239367 219\n",
      "32821462 218\n",
      "30234171 218\n",
      "63649194 217\n",
      "53826156 217\n",
      "13813472 217\n",
      "26158314 217\n",
      "17679500 217\n",
      "14394422 216\n",
      "7153815 216\n",
      "13062446 216\n",
      "36039499 216\n",
      "64373911 216\n",
      "12890141 215\n",
      "20291955 215\n",
      "36757249 214\n",
      "64856469 214\n",
      "40043869 213\n",
      "34071175 212\n",
      "11768267 211\n",
      "38750752 211\n",
      "3295906 211\n"
     ]
    }
   ],
   "source": [
    "for val in top50:\n",
    "    print '%s %s %s' % val"
   ]
  },
  {
   "cell_type": "code",
   "execution_count": null,
   "metadata": {
    "collapsed": true
   },
   "outputs": [],
   "source": []
  }
 ],
 "metadata": {
  "kernelspec": {
   "display_name": "Python 2",
   "language": "python",
   "name": "python2"
  },
  "language_info": {
   "codemirror_mode": {
    "name": "ipython",
    "version": 2
   },
   "file_extension": ".py",
   "mimetype": "text/x-python",
   "name": "python",
   "nbconvert_exporter": "python",
   "pygments_lexer": "ipython2",
   "version": "2.7.12"
  }
 },
 "nbformat": 4,
 "nbformat_minor": 2
}
