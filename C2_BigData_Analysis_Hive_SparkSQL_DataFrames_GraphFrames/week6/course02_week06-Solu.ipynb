{
 "cells": [
  {
   "cell_type": "code",
   "execution_count": 6,
   "metadata": {},
   "outputs": [],
   "source": [
    "from pyspark.sql.types import StructType, StructField, IntegerType\n",
    "from pyspark.sql.functions import *"
   ]
  },
  {
   "cell_type": "code",
   "execution_count": 7,
   "metadata": {},
   "outputs": [],
   "source": [
    "from pyspark.sql import SparkSession\n",
    "spark = SparkSession.builder.enableHiveSupport().master(\"local[2]\").getOrCreate()"
   ]
  },
  {
   "cell_type": "code",
   "execution_count": 8,
   "metadata": {},
   "outputs": [],
   "source": [
    "graph_schema = StructType([\n",
    "    StructField(\"to\", IntegerType(), False),\n",
    "    StructField(\"from\", IntegerType(), False)\n",
    "])"
   ]
  },
  {
   "cell_type": "code",
   "execution_count": 9,
   "metadata": {},
   "outputs": [],
   "source": [
    "dist_schema = StructType([\n",
    "    StructField(\"vertex\", IntegerType(), False),\n",
    "    StructField(\"distance\", IntegerType(), False)\n",
    "])"
   ]
  },
  {
   "cell_type": "code",
   "execution_count": 70,
   "metadata": {},
   "outputs": [],
   "source": [
    "def shortest_path(v_from, v_to, dataset_path=None):\n",
    "    edges = spark.read.csv(dataset_path, sep=\"\\t\", schema=graph_schema).repartition(60)\n",
    "    distances = spark.createDataFrame([[v_from,int(0)]],schema=dist_schema)\n",
    "    path_length = 0\n",
    "    while True:\n",
    "        new_distances=distances.join(edges,col(\"from\")==col(\"vertex\")).select(col(\"to\").alias(\"vertex\"),distances.distance)\n",
    "              \n",
    "               \n",
    "        cnt=new_distances.filter(edges.to==v_to).count()\n",
    "        if cnt==0:\n",
    "            distances=new_distances.selectExpr(\"vertex\",\"distance+1 as distance \")\n",
    "        else:\n",
    "            break\n",
    "    \n",
    "    # Here you should implement the BFS algorithm. It should return the length\n",
    "    # of the minimal path (single integer) between v_from and v_to\n",
    "    path_length=new_distances.agg({\"distance\": \"min\"}).collect()[0][0]\n",
    "    if path_length>0:\n",
    "        path_length+=1\n",
    "    return path_length"
   ]
  },
  {
   "cell_type": "code",
   "execution_count": 71,
   "metadata": {},
   "outputs": [
    {
     "name": "stdout",
     "output_type": "stream",
     "text": [
      "8\n"
     ]
    }
   ],
   "source": [
    "print shortest_path(12, 34, \"/data/twitter/twitter_sample.txt\")"
   ]
  }
 ],
 "metadata": {
  "kernelspec": {
   "display_name": "Python 2",
   "language": "python",
   "name": "python2"
  },
  "language_info": {
   "codemirror_mode": {
    "name": "ipython",
    "version": 2
   },
   "file_extension": ".py",
   "mimetype": "text/x-python",
   "name": "python",
   "nbconvert_exporter": "python",
   "pygments_lexer": "ipython2",
   "version": "2.7.12"
  }
 },
 "nbformat": 4,
 "nbformat_minor": 2
}
